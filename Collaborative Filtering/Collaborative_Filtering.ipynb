{
 "cells": [
  {
   "cell_type": "code",
   "execution_count": 0,
   "metadata": {
    "colab": {},
    "colab_type": "code",
    "id": "kif-6CngDfH_"
   },
   "outputs": [],
   "source": [
    "import numpy as np\n",
    "import math\n",
    "import io\n",
    "import pandas as pd\n",
    "import seaborn as snb\n",
    "from sklearn import linear_model\n",
    "from sklearn.model_selection import train_test_split\n",
    "from matplotlib import pyplot as plt\n",
    "from sklearn import metrics\n",
    "from scipy.io import loadmat"
   ]
  },
  {
   "cell_type": "code",
   "execution_count": 0,
   "metadata": {
    "colab": {},
    "colab_type": "code",
    "id": "NW81oTWGLI6_"
   },
   "outputs": [],
   "source": [
    "data=pd.read_csv('ratings.csv')"
   ]
  },
  {
   "cell_type": "code",
   "execution_count": 0,
   "metadata": {
    "colab": {},
    "colab_type": "code",
    "id": "VALghjCtLrAj",
    "outputId": "10dcc022-a4b2-49ac-b7f4-b8ea3015139d"
   },
   "outputs": [
    {
     "name": "stdout",
     "output_type": "stream",
     "text": [
      "36\n",
      "36\n"
     ]
    }
   ],
   "source": [
    "total_item=36\n",
    "total_user=36\n",
    "D = 6\n",
    "print(total_user)\n",
    "print(total_item)"
   ]
  },
  {
   "cell_type": "code",
   "execution_count": 0,
   "metadata": {
    "colab": {},
    "colab_type": "code",
    "id": "_NRKjJijLRvV"
   },
   "outputs": [],
   "source": [
    "f=data.loc[data['movieId']<=total_item]\n",
    "f=f.loc[data['userId']<=total_user]\n",
    "#print(f)"
   ]
  },
  {
   "cell_type": "code",
   "execution_count": 0,
   "metadata": {
    "colab": {},
    "colab_type": "code",
    "id": "RQAAi4FdpxLS"
   },
   "outputs": [],
   "source": [
    "from sklearn.utils import shuffle\n",
    "f = shuffle(f)\n",
    "#print(f)"
   ]
  },
  {
   "cell_type": "code",
   "execution_count": 0,
   "metadata": {
    "colab": {
     "base_uri": "https://localhost:8080/",
     "height": 52
    },
    "colab_type": "code",
    "id": "4ycZKbbRQBhX",
    "outputId": "65adbdc8-ce05-4c77-9dd7-da082165bf53"
   },
   "outputs": [
    {
     "name": "stdout",
     "output_type": "stream",
     "text": [
      "(10, 36)\n",
      "(10, 36)\n"
     ]
    }
   ],
   "source": [
    "k=10\n",
    "# user matrix U\n",
    "U=np.random.rand(k,total_user)\n",
    "\n",
    "# item matrix V\n",
    "V=np.random.rand(k,total_item)\n",
    "print(U.shape)\n",
    "print(V.shape)\n",
    "\n",
    "# Rating matrix R\n",
    "R=np.zeros((total_user,total_item),dtype=float)"
   ]
  },
  {
   "cell_type": "code",
   "execution_count": 0,
   "metadata": {
    "colab": {},
    "colab_type": "code",
    "id": "SUvFbrIepxLc"
   },
   "outputs": [],
   "source": [
    "# Block list to stop accessing current user block\n",
    "userBlockList = [False]*(D+1)   # false -> not block    ,,   true --> block\n",
    "\n",
    "# Block list to stop accessing current item block\n",
    "itemBlockList = [False]*(D+1)\n",
    "\n",
    "# waiting list for block p,q\n",
    "global waitingList\n",
    "waitingList = []"
   ]
  },
  {
   "cell_type": "markdown",
   "metadata": {
    "colab_type": "text",
    "id": "hewCrWDvp3WP"
   },
   "source": [
    "![picture](https://drive.google.com/uc?id=129VL6UxDNxdFuIbd3w890qaTab1auydF)"
   ]
  },
  {
   "cell_type": "code",
   "execution_count": 0,
   "metadata": {
    "colab": {},
    "colab_type": "code",
    "id": "E8XqKaFepxLg"
   },
   "outputs": [],
   "source": [
    "def matrixStore(UMat=None,VMat=None,p=-1,q=-1,UFetch=False,VFetch=False,UStore=False,VStore=False):\n",
    "    # if worker want to store updated user block then this condition\n",
    "    if UStore == True:\n",
    "        U[:][p*(D-1):p*D] = UMat\n",
    "        return\n",
    "\n",
    "    # if worker want to store updated item block then this condition\n",
    "    if VStore == True:\n",
    "        V[:][q*(D-1):q*D] = VMat\n",
    "        return\n",
    "    \n",
    "    # same for getch \n",
    "    if UFetch == True:\n",
    "        while userBlockList[p] == True:\n",
    "            val = 0\n",
    "        return U[:][p*(D-1):p*D]\n",
    "    \n",
    "    if VFetch == True:  \n",
    "        while itemBlockList[q] == True:\n",
    "            val = 0\n",
    "        return V[:][q*(D-1):q*D]"
   ]
  },
  {
   "cell_type": "markdown",
   "metadata": {
    "colab_type": "text",
    "id": "skndEvdjqG4-"
   },
   "source": [
    "![picture](https://drive.google.com/uc?id=1WWi3cFm0owxFv_sr5DegVRyDUokEI8uC)"
   ]
  },
  {
   "cell_type": "code",
   "execution_count": 0,
   "metadata": {
    "colab": {},
    "colab_type": "code",
    "id": "_3yBk3tJpxLm"
   },
   "outputs": [],
   "source": [
    "def worker(i=-1,j=-1,Rij=-1,p=-1,q=-1):\n",
    "    \n",
    "    # if i,j,Rij is received\n",
    "    if(i != -1):\n",
    "        j -= 1\n",
    "        i -= 1\n",
    "        R[i][j] = Rij\n",
    "        return\n",
    "    \n",
    "    # if block p q is received then worker have predict new ratings\n",
    "    if(p != -1):\n",
    "        # fetching matrix\n",
    "        up = matrixStore(UFetch=True,p=p,q=q)\n",
    "        vq = matrixStore(VFetch=True,p=p,q=q)\n",
    "        \n",
    "        # predicting algo\n",
    "        n=total_user\n",
    "        m=total_item\n",
    "        alpha=0.01\n",
    "        lamda=10000\n",
    "\n",
    "        for i in range(p*(D-1),p*D,1):\n",
    "            for j in range(q*(D-1),q*D,1):\n",
    "                if R[i][j]!=0:\n",
    "                    ui=U[:,i]\n",
    "                    vj=V[:,j]\n",
    "                    #print(ui.shape,vj.shape)\n",
    "                    ui=ui-(2*alpha)*(((np.matmul(ui.T,vj)-R[i][j])*vj)+(lamda/m)*ui)\n",
    "                    vj=vj-(2*alpha)*(((np.matmul(ui.T,vj)-R[i][j])*ui)+(lamda/n)*vj)\n",
    "                    U[:,i]=ui \n",
    "                    V[:,j]=vj\n",
    "        \n",
    "        # storing back updated block\n",
    "        matrixStore(UStore=True,UMat=up)\n",
    "        matrixStore(VStore=True,VMat=vq)"
   ]
  },
  {
   "cell_type": "markdown",
   "metadata": {
    "colab_type": "text",
    "id": "l8UigSieqxua"
   },
   "source": [
    "![picture](https://drive.google.com/uc?id=1lMQTS9jwICLPMSNqoY9djpPHb1NeMgkj)"
   ]
  },
  {
   "cell_type": "code",
   "execution_count": 0,
   "metadata": {
    "colab": {},
    "colab_type": "code",
    "id": "W43l6F_TpxLr",
    "outputId": "da1d2bdd-dc4f-4e04-f049-66a5c4dabbe4"
   },
   "outputs": [
    {
     "name": "stderr",
     "output_type": "stream",
     "text": [
      "/home/ajaybechara1/anaconda3/lib/python3.6/site-packages/ipykernel_launcher.py:25: RuntimeWarning: overflow encountered in multiply\n",
      "/home/ajaybechara1/anaconda3/lib/python3.6/site-packages/ipykernel_launcher.py:26: RuntimeWarning: invalid value encountered in subtract\n"
     ]
    }
   ],
   "source": [
    "## This is a master \n",
    "## fetching one by one data row\n",
    "for index, row in f.iterrows():\n",
    "    i = int(row['userId'])\n",
    "    j = int(row['movieId'])\n",
    "    Rij = row['rating']\n",
    "    p = i//D \n",
    "    q = j//D\n",
    "    #print(i,j)\n",
    "    #print(p,q)\n",
    "    \n",
    "    # adding into waiting list\n",
    "    waitingList.append((p,q))\n",
    "    waitingList = list(set(waitingList))\n",
    "    \n",
    "    worker(i=i,j=j,Rij=Rij)\n",
    "    \n",
    "    if len(waitingList)>0:\n",
    "        p,q = map(int,waitingList[0])\n",
    "        waitingList.pop(0)\n",
    "        \n",
    "        #print(p,q)\n",
    "        userBlockList[p] = False  # True in case of threading \n",
    "        itemBlockList[q] = False  # True in case of threading\n",
    "        \n",
    "        worker(p=p,q=q)\n",
    "                \n",
    "        userBlockList[p] = False\n",
    "        itemBlockList[q] = False"
   ]
  },
  {
   "cell_type": "code",
   "execution_count": 0,
   "metadata": {
    "colab": {
     "base_uri": "https://localhost:8080/",
     "height": 278
    },
    "colab_type": "code",
    "id": "_DQMQHx8386D",
    "outputId": "38247c6a-4729-40e0-f8d8-599624f3428f"
   },
   "outputs": [
    {
     "name": "stdout",
     "output_type": "stream",
     "text": [
      "[[0. 0. 0. ... 0. 0. 0.]\n",
      " [5. 0. 2. ... 0. 0. 5.]\n",
      " [0. 0. 0. ... 5. 0. 4.]\n",
      " ...\n",
      " [0. 0. 0. ... 0. 0. 0.]\n",
      " [0. 0. 3. ... 0. 0. 0.]\n",
      " [0. 0. 0. ... 0. 0. 0.]]\n"
     ]
    }
   ],
   "source": [
    "print(R)"
   ]
  }
 ],
 "metadata": {
  "colab": {
   "collapsed_sections": [],
   "name": "1741053_1741054_1741063_1741093_Assignment_7.ipynb",
   "provenance": []
  },
  "kernelspec": {
   "display_name": "Python 3",
   "language": "python",
   "name": "python3"
  },
  "language_info": {
   "codemirror_mode": {
    "name": "ipython",
    "version": 3
   },
   "file_extension": ".py",
   "mimetype": "text/x-python",
   "name": "python",
   "nbconvert_exporter": "python",
   "pygments_lexer": "ipython3",
   "version": "3.6.9"
  }
 },
 "nbformat": 4,
 "nbformat_minor": 1
}
