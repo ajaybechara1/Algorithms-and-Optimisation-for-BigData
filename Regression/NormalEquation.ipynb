{
 "cells": [
  {
   "cell_type": "code",
   "execution_count": 1,
   "metadata": {
    "colab": {
     "base_uri": "https://localhost:8080/",
     "height": 72
    },
    "colab_type": "code",
    "executionInfo": {
     "elapsed": 1692,
     "status": "ok",
     "timestamp": 1586180177177,
     "user": {
      "displayName": "AKSHAY GOPANI",
      "photoUrl": "https://lh3.googleusercontent.com/a-/AOh14GiXZHd8CtKhCT3CwLk3cAbyfuBlmLhZ4EEPVmV2=s64",
      "userId": "16259379068375361793"
     },
     "user_tz": -330
    },
    "id": "NrLaHSkd6oSJ",
    "outputId": "364600bf-9486-4675-c8f9-2350725ccaea"
   },
   "outputs": [],
   "source": [
    "import numpy as np\n",
    "import math\n",
    "import pandas as pd\n",
    "import seaborn as snb\n",
    "from sklearn import linear_model\n",
    "from sklearn.model_selection import train_test_split\n",
    "from matplotlib import pyplot as plt\n",
    "from sklearn import metrics\n",
    "from scipy.io import loadmat\n",
    "from sklearn.datasets import load_boston"
   ]
  },
  {
   "cell_type": "markdown",
   "metadata": {
    "colab_type": "text",
    "id": "nr0UnXv3NGAX"
   },
   "source": [
    "![picture](https://drive.google.com/uc?id=1xIm4eiD011jq1b7OPz6VB4qsLLBm83eP)"
   ]
  },
  {
   "cell_type": "code",
   "execution_count": 2,
   "metadata": {
    "colab": {
     "base_uri": "https://localhost:8080/",
     "height": 52
    },
    "colab_type": "code",
    "executionInfo": {
     "elapsed": 1318,
     "status": "ok",
     "timestamp": 1586180433246,
     "user": {
      "displayName": "AKSHAY GOPANI",
      "photoUrl": "https://lh3.googleusercontent.com/a-/AOh14GiXZHd8CtKhCT3CwLk3cAbyfuBlmLhZ4EEPVmV2=s64",
      "userId": "16259379068375361793"
     },
     "user_tz": -330
    },
    "id": "81LzILgt6oSe",
    "outputId": "402fd27e-8ea1-4973-d2a2-3f85f1429967",
    "scrolled": true
   },
   "outputs": [
    {
     "name": "stdout",
     "output_type": "stream",
     "text": [
      "shape of Data Matrix\n",
      "(404, 14)\n"
     ]
    }
   ],
   "source": [
    "x,y=load_boston(return_X_y=True)                      #load boston dataset\n",
    "X_train, X_test, y_train, y_test = train_test_split(x, y, test_size=0.2)   #split data set into train and test\n",
    "\n",
    "#normalise training set\n",
    "X_train = (X_train - X_train.mean()) / X_train.std()   \n",
    "y_train = (y_train - y_train.mean()) / y_train.std()\n",
    "\n",
    "#add dummy feature and construct X\n",
    "X=np.ones((X_train.shape[0],X_train.shape[1]+1),dtype=float)\n",
    "tmp=X_train.shape[1]+1\n",
    "\n",
    "X[:,1:tmp]=X_train[:,:]\n",
    "print(\"shape of Data Matrix\")\n",
    "print(X.shape)\n",
    "\n",
    "#X=np.concatenate((X,X_train.reshape(l,1)),axis=1)\n",
    "\n",
    "\n",
    "X_tr=np.transpose(X)         \n",
    "p=np.dot(X_tr,X)                #X^T*X\n",
    "try :\n",
    "   p_inv=np.linalg.inv(p)          #inverse of X^T*X \n",
    "except np.linalg.LinAlgError:\n",
    "   p_inv=np.linalg.pinv(p)\n",
    "\n",
    "xt_y=np.dot(X_tr,y_train)      #X^T*y\n",
    "\n",
    "theta=np.dot(p_inv,xt_y)      #(X^T*X)^(-1)*(X^T*y)\n"
   ]
  },
  {
   "cell_type": "code",
   "execution_count": 3,
   "metadata": {
    "colab": {
     "base_uri": "https://localhost:8080/",
     "height": 69
    },
    "colab_type": "code",
    "executionInfo": {
     "elapsed": 1314,
     "status": "ok",
     "timestamp": 1586180439145,
     "user": {
      "displayName": "AKSHAY GOPANI",
      "photoUrl": "https://lh3.googleusercontent.com/a-/AOh14GiXZHd8CtKhCT3CwLk3cAbyfuBlmLhZ4EEPVmV2=s64",
      "userId": "16259379068375361793"
     },
     "user_tz": -330
    },
    "id": "Avp_Yav06oSx",
    "outputId": "ed812831-7a9d-4727-c0c9-8e5d7c698165"
   },
   "outputs": [
    {
     "name": "stdout",
     "output_type": "stream",
     "text": [
      "(102,)\n",
      "Mean absolute error = 0.2995079019541581\n",
      "Mean squared Error = 0.3412552824387412\n"
     ]
    }
   ],
   "source": [
    "#test the model \n",
    "X_test = (X_test - X_test.mean()) / X_test.std()       #normalise testing set\n",
    "y_test = (y_test - y_test.mean()) / y_test.std()\n",
    "X=np.ones((X_test.shape[0],X_test.shape[1]+1),dtype=float)\n",
    "tmp=X_test.shape[1]+1\n",
    "X[:,1:tmp]=X_test[:,:]\n",
    "\n",
    "#predict y\n",
    "h=np.dot(X,theta)\n",
    "print(h.shape)\n",
    "\n",
    "#calculate Mean Square Error\n",
    "mae=metrics.median_absolute_error(y_true=y_test,y_pred=h)\n",
    "print(\"Mean absolute error =\",mae)\n",
    "mse=metrics.mean_squared_error(y_true=y_test,y_pred=h)\n",
    "print(\"Mean squared Error =\",mse)"
   ]
  },
  {
   "cell_type": "code",
   "execution_count": 4,
   "metadata": {},
   "outputs": [
    {
     "name": "stdout",
     "output_type": "stream",
     "text": [
      "0.34125528245652337\n"
     ]
    }
   ],
   "source": [
    "# Inbuilt Linear regression\n",
    "\n",
    "#load the model and fit the model on training data\n",
    "lm = linear_model.LinearRegression()\n",
    "model = lm.fit(X_train, y_train)\n",
    "\n",
    "#test the model\n",
    "predictions = lm.predict(X_test)\n",
    "print(metrics.mean_squared_error(predictions,y_test))"
   ]
  }
 ],
 "metadata": {
  "colab": {
   "name": "1741053_1741054_1741063_1741093_Assignment_3.ipynb",
   "provenance": []
  },
  "kernelspec": {
   "display_name": "Python 3",
   "language": "python",
   "name": "python3"
  },
  "language_info": {
   "codemirror_mode": {
    "name": "ipython",
    "version": 3
   },
   "file_extension": ".py",
   "mimetype": "text/x-python",
   "name": "python",
   "nbconvert_exporter": "python",
   "pygments_lexer": "ipython3",
   "version": "3.6.9"
  }
 },
 "nbformat": 4,
 "nbformat_minor": 1
}
