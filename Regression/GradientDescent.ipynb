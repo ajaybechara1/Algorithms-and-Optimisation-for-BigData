{
 "cells": [
  {
   "cell_type": "code",
   "execution_count": 1,
   "metadata": {
    "colab": {},
    "colab_type": "code",
    "id": "yeJenYbNv0fk"
   },
   "outputs": [],
   "source": [
    "import numpy as np\n",
    "import math\n",
    "import pandas as pd\n",
    "import seaborn as snb\n",
    "from sklearn import linear_model\n",
    "from sklearn.model_selection import train_test_split\n",
    "from matplotlib import pyplot as plt\n",
    "from sklearn import metrics\n",
    "from sklearn.datasets import load_boston"
   ]
  },
  {
   "cell_type": "code",
   "execution_count": 2,
   "metadata": {
    "colab": {
     "base_uri": "https://localhost:8080/",
     "height": 52
    },
    "colab_type": "code",
    "executionInfo": {
     "elapsed": 4049,
     "status": "ok",
     "timestamp": 1586179910126,
     "user": {
      "displayName": "AKSHAY GOPANI",
      "photoUrl": "https://lh3.googleusercontent.com/a-/AOh14GiXZHd8CtKhCT3CwLk3cAbyfuBlmLhZ4EEPVmV2=s64",
      "userId": "16259379068375361793"
     },
     "user_tz": -330
    },
    "id": "7SPODEFjv0f7",
    "outputId": "2bad042b-453b-4c3e-e705-a9ab3f50239e"
   },
   "outputs": [
    {
     "name": "stdout",
     "output_type": "stream",
     "text": [
      "shape of Data Matrix\n",
      "(404, 14)\n"
     ]
    }
   ],
   "source": [
    "x,y=load_boston(return_X_y=True)\n",
    "\n",
    "X_train, X_test, y_train, y_test = train_test_split(x, y, test_size=0.2)\n",
    "#normalise training set\n",
    "X_train = (X_train - X_train.mean()) / X_train.std()   \n",
    "y_train = (y_train - y_train.mean()) / y_train.std()\n",
    "\n",
    "#add dummy feature\n",
    "X=np.ones((X_train.shape[0],X_train.shape[1]+1),dtype=float)\n",
    "tmp=X_train.shape[1]+1\n",
    "X[:,1:tmp]=X_train[:,:]\n",
    "print(\"shape of Data Matrix\")\n",
    "print(X.shape)\n"
   ]
  },
  {
   "cell_type": "markdown",
   "metadata": {
    "colab_type": "text",
    "id": "hIp5DSjNMHQs"
   },
   "source": [
    "![picture](https://drive.google.com/uc?id=1wywqRwgrbjv9NmXgSnPYI9T6LtK4Z6Il)"
   ]
  },
  {
   "cell_type": "code",
   "execution_count": 3,
   "metadata": {
    "colab": {
     "base_uri": "https://localhost:8080/",
     "height": 86
    },
    "colab_type": "code",
    "executionInfo": {
     "elapsed": 17224,
     "status": "ok",
     "timestamp": 1586179934923,
     "user": {
      "displayName": "AKSHAY GOPANI",
      "photoUrl": "https://lh3.googleusercontent.com/a-/AOh14GiXZHd8CtKhCT3CwLk3cAbyfuBlmLhZ4EEPVmV2=s64",
      "userId": "16259379068375361793"
     },
     "user_tz": -330
    },
    "id": "NsSTgeJqv0gQ",
    "outputId": "d0b3593f-1cad-433a-ca46-397050ecc405"
   },
   "outputs": [
    {
     "name": "stdout",
     "output_type": "stream",
     "text": [
      "parameter vector\n",
      "[-0.46433155 -2.2523476  -1.17699346  0.08062765 -0.11012693  1.5193977\n",
      "  0.24543432 -0.48859666 -0.14232649  0.8226585  -0.30914674  0.14459021\n",
      "  0.31949785 -0.43034588]\n"
     ]
    }
   ],
   "source": [
    "#train the model\n",
    "theta=np.random.normal(0.0,1.0,X.shape[1])  # n feature vector\n",
    "alpha=0.01\n",
    "iteration=0\n",
    "m=(X.shape[0])\n",
    "while iteration<1000 :\n",
    "    iteration+=1\n",
    "    #converge=np.zeros(X.shape[1],1,dtype=float)\n",
    "    tmp=np.zeros((X.shape[1],1),dtype=float)\n",
    "    for j in range((theta.shape[0])) :\n",
    "            update=0          \n",
    "            for i in range(m) :\n",
    "                h=np.dot(X[i,:],theta)\n",
    "                update+=((h-y_train[i])*X[i][j])\n",
    "            update=(float)(update/m)\n",
    "            update=update*alpha\n",
    "            tmp[j]=theta[j]-update\n",
    "    for j in range((theta.shape[0])) :\n",
    "                  theta[j]=tmp[j]\n",
    "print(\"parameter vector\")\n",
    "print(theta) "
   ]
  },
  {
   "cell_type": "code",
   "execution_count": 4,
   "metadata": {
    "colab": {
     "base_uri": "https://localhost:8080/",
     "height": 69
    },
    "colab_type": "code",
    "executionInfo": {
     "elapsed": 1295,
     "status": "ok",
     "timestamp": 1586180084032,
     "user": {
      "displayName": "AKSHAY GOPANI",
      "photoUrl": "https://lh3.googleusercontent.com/a-/AOh14GiXZHd8CtKhCT3CwLk3cAbyfuBlmLhZ4EEPVmV2=s64",
      "userId": "16259379068375361793"
     },
     "user_tz": -330
    },
    "id": "n5kfFxwlv0gf",
    "outputId": "61ca104b-f290-448f-9de2-435303f77907"
   },
   "outputs": [
    {
     "name": "stdout",
     "output_type": "stream",
     "text": [
      "(102,)\n",
      "Mean absolute error = 0.5361263242045865\n",
      "Meansquared Error = 0.8323643885693637\n"
     ]
    }
   ],
   "source": [
    "#test the model\n",
    "X_test = (X_test - X_test.mean()) / X_test.std()       #normalise testing set\n",
    "y_test = (y_test - y_test.mean()) / y_test.std()\n",
    "X=np.ones((X_test.shape[0],X_test.shape[1]+1),dtype=float)\n",
    "tmp=X_test.shape[1]+1\n",
    "X[:,1:tmp]=X_test[:,:]\n",
    "#print(X.shape)\n",
    "h=np.dot(X,theta)\n",
    "print(h.shape)\n",
    "#mse=np.square(np.subtract(h,y_test)).mean()\n",
    "mae=metrics.median_absolute_error(y_true=y_test,y_pred=h)\n",
    "print(\"Mean absolute error =\",mae)\n",
    "mse=metrics.mean_squared_error(y_true=y_test,y_pred=h)\n",
    "print(\"Meansquared Error =\",mse)"
   ]
  }
 ],
 "metadata": {
  "colab": {
   "collapsed_sections": [],
   "name": "1741053_1741054_1741063_1741093_Assignment_1.ipynb",
   "provenance": []
  },
  "kernelspec": {
   "display_name": "Python 3",
   "language": "python",
   "name": "python3"
  },
  "language_info": {
   "codemirror_mode": {
    "name": "ipython",
    "version": 3
   },
   "file_extension": ".py",
   "mimetype": "text/x-python",
   "name": "python",
   "nbconvert_exporter": "python",
   "pygments_lexer": "ipython3",
   "version": "3.6.9"
  }
 },
 "nbformat": 4,
 "nbformat_minor": 1
}
