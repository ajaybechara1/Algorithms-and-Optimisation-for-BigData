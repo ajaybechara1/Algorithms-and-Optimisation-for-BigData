{
 "cells": [
  {
   "cell_type": "code",
   "execution_count": 1,
   "metadata": {
    "colab": {},
    "colab_type": "code",
    "id": "hy9XK21zgF1V"
   },
   "outputs": [],
   "source": [
    "import numpy as np\n",
    "import math\n",
    "import io\n",
    "import pandas as pd\n",
    "import seaborn as snb\n",
    "from sklearn import linear_model\n",
    "from sklearn.model_selection import train_test_split\n",
    "from matplotlib import pyplot as plt\n",
    "from sklearn import metrics\n",
    "from scipy.io import loadmat\n",
    "from sklearn.datasets import load_boston"
   ]
  },
  {
   "cell_type": "code",
   "execution_count": 2,
   "metadata": {
    "colab": {},
    "colab_type": "code",
    "id": "5RV_V-J4wu6_"
   },
   "outputs": [],
   "source": [
    "def normalization(x,y):\n",
    "    x = (x - x.mean()) / x.std()   \n",
    "    y= (y - y.mean()) / y.std()\n",
    "    return x,y"
   ]
  },
  {
   "cell_type": "code",
   "execution_count": 3,
   "metadata": {
    "colab": {},
    "colab_type": "code",
    "id": "C6rAVVCkk2JX"
   },
   "outputs": [],
   "source": [
    "def testmodel(X_test,y_test,beta):\n",
    "    X=np.ones((X_test.shape[0],X_test.shape[1]+1),dtype=float)\n",
    "    tmp=X_test.shape[1]+1\n",
    "    X[:,1:tmp]=X_test[:,:]\n",
    "    h=np.dot(X,beta)\n",
    "    \n",
    "    mae=metrics.median_absolute_error(y_true=y_test,y_pred=h)\n",
    "#     print(\"Mean absolute error =\",mae)\n",
    "    \n",
    "    mse=metrics.mean_squared_error(y_true=y_test,y_pred=h)\n",
    "#     print(\"Meansquared Error =\",mse)"
   ]
  },
  {
   "cell_type": "code",
   "execution_count": 4,
   "metadata": {
    "colab": {},
    "colab_type": "code",
    "id": "4wyl5MeAT6Ra"
   },
   "outputs": [],
   "source": [
    "def predict(X_test,beta):\n",
    "    X=np.ones((X_test.shape[0],X_test.shape[1]+1),dtype=float)\n",
    "    tmp=X_test.shape[1]+1\n",
    "    X[:,1:tmp]=X_test[:,:]\n",
    "    h=np.dot(X,beta)\n",
    "    return h"
   ]
  },
  {
   "cell_type": "code",
   "execution_count": 5,
   "metadata": {
    "colab": {},
    "colab_type": "code",
    "id": "BtIwfo74vDPY"
   },
   "outputs": [],
   "source": [
    "def plotstream(Beta,x,y):\n",
    "    h=(x[:,2]*Beta[3])+Beta[0]\n",
    "    plt.scatter(x[:,2], y)\n",
    "    plt.plot(h,x[:,2])\n",
    "    plt.draw()\n",
    "    plt.pause(0.1) "
   ]
  },
  {
   "cell_type": "code",
   "execution_count": 6,
   "metadata": {
    "colab": {},
    "colab_type": "code",
    "id": "gElovaKcv0fA"
   },
   "outputs": [],
   "source": [
    "def streamdataX(X,i,prv,datasize,windowsize) :\n",
    "    while i<=datasize :\n",
    "        yield X[prv:i,:]\n",
    "        prv=i\n",
    "        i+=windowsize"
   ]
  },
  {
   "cell_type": "code",
   "execution_count": 7,
   "metadata": {
    "colab": {},
    "colab_type": "code",
    "id": "K53540R-FD-_"
   },
   "outputs": [],
   "source": [
    "def streamdatay(y,i,prv,datasize,windowsize) :\n",
    "    while i<=datasize :\n",
    "        yield y[prv:i]\n",
    "        prv=i\n",
    "        i+=windowsize "
   ]
  },
  {
   "cell_type": "code",
   "execution_count": 8,
   "metadata": {
    "colab": {},
    "colab_type": "code",
    "id": "mFatZ2xLxsuw",
    "scrolled": true
   },
   "outputs": [
    {
     "name": "stdout",
     "output_type": "stream",
     "text": [
      "(506, 13)\n"
     ]
    }
   ],
   "source": [
    "x,y=load_boston(return_X_y=True)\n",
    "print(x.shape)"
   ]
  },
  {
   "cell_type": "code",
   "execution_count": 9,
   "metadata": {
    "colab": {},
    "colab_type": "code",
    "id": "QHWjeBfgxNl0"
   },
   "outputs": [],
   "source": [
    "def trainModelIMSR(x,y,M,V) :\n",
    "    p=np.dot(x.T,x)\n",
    "    p=np.add(p,M)\n",
    "\n",
    "    try :\n",
    "        p_inv=np.linalg.inv(p)          #inverse of X^T*X \n",
    "    except np.linalg.LinAlgError:\n",
    "        p_inv=np.linalg.pinv(p)\n",
    "\n",
    "    xt_y=np.dot(x.T,y)\n",
    "    xt_y=np.add(xt_y,V)\n",
    "\n",
    "    Beta=np.dot(p_inv,xt_y) \n",
    "\n",
    "    return Beta,p,xt_y"
   ]
  },
  {
   "cell_type": "markdown",
   "metadata": {
    "colab_type": "text",
    "id": "HTvC6qxnUQbP"
   },
   "source": [
    "![picture](https://drive.google.com/uc?id=1rNYtheYwup-eKrYHT7QqXmNGB29F5ZvS)"
   ]
  },
  {
   "cell_type": "code",
   "execution_count": 10,
   "metadata": {
    "colab": {},
    "colab_type": "code",
    "id": "uBVotOV_T6R9"
   },
   "outputs": [],
   "source": [
    "def IMSR(windowsize):\n",
    "    p=windowsize\n",
    "    M=np.zeros((p,p),dtype=float) \n",
    "    V=np.zeros(p,dtype=float)\n",
    "\n",
    "    X_train, X_test, y_train, y_test = train_test_split(x,y, test_size=0.2)\n",
    "    X_train = (X_train - X_train.mean()) / X_train.std()   \n",
    "    y_train = (y_train - y_train.mean()) / y_train.std()\n",
    "\n",
    "    datasize = X_train.shape[0]\n",
    "#     print('datasize = ',datasize)\n",
    "#     print('windowsize = ',windowsize)\n",
    "#     print('required iteration = ',datasize//windowsize)\n",
    "    \n",
    "    #plt.ion()\n",
    "    for i in range(0,datasize//windowsize):\n",
    "#         print(\"----------Iteration---------\",i+1)\n",
    "        if i==0 :\n",
    "            data_x=streamdataX(X_train,windowsize,0,datasize,windowsize) \n",
    "            data_y=streamdatay(y_train,windowsize,0,datasize,windowsize)\n",
    "\n",
    "        X_s=next(data_x) \n",
    "        y_s=next(data_y)\n",
    "\n",
    "        X=np.ones((X_s.shape[0],X_s.shape[1]+1),dtype=float)\n",
    "        tmp=X_s.shape[1]+1\n",
    "        X[:,1:tmp]=X_s[:,:]\n",
    "\n",
    "        Beta,M,V=trainModelIMSR(X,y_s,M,V)\n",
    "        #plotstream(Beta,x,y)\n",
    "        X_test = (X_test - X_test.mean()) / X_test.std()       #normalise testing set\n",
    "        y_test = (y_test - y_test.mean()) / y_test.std()\n",
    "        testmodel(X_test,y_test,Beta)\n",
    "\n",
    "    data_x.close()\n",
    "    data_y.close()"
   ]
  },
  {
   "cell_type": "code",
   "execution_count": 11,
   "metadata": {
    "colab": {},
    "colab_type": "code",
    "id": "wRzxtVKjT6SC"
   },
   "outputs": [],
   "source": [
    "IMSR(14)  # IMSR(windowsize)"
   ]
  },
  {
   "cell_type": "code",
   "execution_count": 12,
   "metadata": {
    "colab": {},
    "colab_type": "code",
    "id": "prktrtGYT6SH"
   },
   "outputs": [],
   "source": [
    "def trainModelASR(x,y):\n",
    "    p=np.dot(x.T,x)\n",
    "\n",
    "    try :\n",
    "        p_inv=np.linalg.inv(p)          #inverse of X^T*X \n",
    "    except np.linalg.LinAlgError:\n",
    "        p_inv=np.linalg.pinv(p)\n",
    "\n",
    "    xt_y=np.dot(x.T,y)\n",
    "    Beta=np.dot(p_inv,xt_y)\n",
    "    return Beta"
   ]
  },
  {
   "cell_type": "code",
   "execution_count": 13,
   "metadata": {
    "colab": {},
    "colab_type": "code",
    "id": "YtWHINVbT6SO"
   },
   "outputs": [
    {
     "name": "stdout",
     "output_type": "stream",
     "text": [
      "(506, 13)\n"
     ]
    }
   ],
   "source": [
    "x,y=load_boston(return_X_y=True)\n",
    "print(x.shape)"
   ]
  },
  {
   "cell_type": "code",
   "execution_count": 14,
   "metadata": {
    "colab": {},
    "colab_type": "code",
    "id": "Z6JHjEzIT6SS"
   },
   "outputs": [],
   "source": [
    "def testmodel2(X_test,y_test,beta):\n",
    "    X=np.ones((X_test.shape[0],X_test.shape[1]+1),dtype=float)\n",
    "    tmp=X_test.shape[1]+1\n",
    "    X[:,1:tmp]=X_test[:,:]\n",
    "    h=np.dot(X,beta)\n",
    "    mae=metrics.median_absolute_error(y_true=y_test,y_pred=h)\n",
    "    mse=metrics.mean_squared_error(y_true=y_test,y_pred=h)\n",
    "    return mse"
   ]
  },
  {
   "cell_type": "markdown",
   "metadata": {
    "colab_type": "text",
    "id": "2B7oV60IUgU6"
   },
   "source": [
    "![picture](https://drive.google.com/uc?id=1RfV_zhbIENUbiXo0uFKmEllxAtrgzdD0)"
   ]
  },
  {
   "cell_type": "code",
   "execution_count": 15,
   "metadata": {
    "colab": {},
    "colab_type": "code",
    "id": "3Ej8pInfT6Sb"
   },
   "outputs": [
    {
     "data": {
      "image/png": "[encoded data removed]",
      "text/plain": [
       "<Figure size 432x288 with 1 Axes>"
      ]
     },
     "metadata": {
      "needs_background": "light"
     },
     "output_type": "display_data"
    }
   ],
   "source": [
    "p=14\n",
    "weightArray = []\n",
    "errorArray = []\n",
    "windowsize=14\n",
    "datasize=404\n",
    "#plt.ion()\n",
    "flag = 0\n",
    "X_train, X_test, y_train, y_test = train_test_split(x,y, test_size=0.2)\n",
    "X_train = (X_train - X_train.mean()) / X_train.std()   \n",
    "y_train = (y_train - y_train.mean()) / y_train.std()\n",
    "for alfa in np.arange(0.0,1.0,0.1):\n",
    "    averageError = 0\n",
    "    count = 0\n",
    "    betaFinal=np.zeros((p),dtype=float)\n",
    "    \n",
    "    for i in range(0,10):\n",
    "        if(flag == 1):\n",
    "            print(\"----------Iteration---------\",i+1)\n",
    "        if i==0 :\n",
    "            data_x=streamdataX(X_train,windowsize,0,datasize,windowsize) \n",
    "            data_y=streamdatay(y_train,windowsize,0,datasize,windowsize)\n",
    "        # fatch next data\n",
    "        X_s=next(data_x) \n",
    "        y_s=next(data_y)\n",
    "\n",
    "        X=np.ones((X_s.shape[0],X_s.shape[1]+1),dtype=float)\n",
    "        tmp=X_s.shape[1]+1\n",
    "        X[:,1:tmp]=X_s[:,:]\n",
    "\n",
    "        betaTemp=trainModelASR(X,y_s)\n",
    "        betaFinal = betaTemp*(1-alfa) + alfa*betaFinal\n",
    "\n",
    "        #plotstream(Beta,x,y)\n",
    "        X_test = (X_test - X_test.mean()) / X_test.std()       #normalise testing set\n",
    "        y_test = (y_test - y_test.mean()) / y_test.std()\n",
    "        predictions = predict(X_test,betaFinal)\n",
    "        averageError += metrics.mean_squared_error(y_true=y_test,y_pred=predictions)\n",
    "        count+=1\n",
    "\n",
    "#         print(\"MAE:\", metrics.mean_absolute_error(y_true=y_test,y_pred=predictions))\n",
    "#         print(\"MSE:\", metrics.mean_squared_error(y_true=y_test,y_pred=predictions))\n",
    "    \n",
    "    flag = 0\n",
    "    weightArray.append((1-alfa)*100)\n",
    "    errorArray.append(averageError/count)\n",
    "\n",
    "data_x.close()\n",
    "data_y.close()  \n",
    "\n",
    "plt.xlabel('given weightage to current window %')\n",
    "plt.ylabel('mean squared error')\n",
    "plt.plot(weightArray,errorArray)\n",
    "plt.show()"
   ]
  }
 ],
 "metadata": {
  "accelerator": "TPU",
  "colab": {
   "collapsed_sections": [],
   "name": "1741053_1741054_1741063_1741093_Assignment_4.ipynb",
   "private_outputs": true,
   "provenance": [],
   "toc_visible": true
  },
  "kernelspec": {
   "display_name": "Python 3",
   "language": "python",
   "name": "python3"
  },
  "language_info": {
   "codemirror_mode": {
    "name": "ipython",
    "version": 3
   },
   "file_extension": ".py",
   "mimetype": "text/x-python",
   "name": "python",
   "nbconvert_exporter": "python",
   "pygments_lexer": "ipython3",
   "version": "3.6.9"
  }
 },
 "nbformat": 4,
 "nbformat_minor": 1
}
